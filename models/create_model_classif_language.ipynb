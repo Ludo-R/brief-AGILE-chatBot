{
 "cells": [
  {
   "cell_type": "markdown",
   "id": "agreed-dictionary",
   "metadata": {},
   "source": [
    "## 0. Imports"
   ]
  },
  {
   "cell_type": "code",
   "execution_count": 22,
   "id": "cloudy-outdoors",
   "metadata": {},
   "outputs": [
    {
     "name": "stderr",
     "output_type": "stream",
     "text": [
      "[nltk_data] Downloading package stopwords to\n",
      "[nltk_data]     /home/anthony/nltk_data...\n",
      "[nltk_data]   Package stopwords is already up-to-date!\n"
     ]
    }
   ],
   "source": [
    "from time import time\n",
    "from collections import defaultdict\n",
    "import numpy as np\n",
    "import pandas as pd\n",
    "import matplotlib.pyplot as plt\n",
    "import seaborn as sns\n",
    "\n",
    "import nltk\n",
    "from nltk.corpus import stopwords as sw\n",
    "nltk.download('stopwords') ## à executer qu'une fois\n",
    "stopwords = sw.words('english')\n",
    "\n",
    "## sklearn\n",
    "from sklearn.feature_extraction.text import CountVectorizer, TfidfVectorizer, TfidfTransformer\n",
    "### models ML\n",
    "from sklearn.svm import SVC, LinearSVC     # Support Vector Machine\n",
    "from sklearn.neighbors import KNeighborsClassifier\n",
    "from sklearn.linear_model import SGDClassifier, LogisticRegression, LogisticRegressionCV\n",
    "from sklearn.tree import DecisionTreeClassifier \n",
    "from sklearn.naive_bayes import MultinomialNB, CategoricalNB, ComplementNB, BernoulliNB\n",
    "from sklearn.neural_network import MLPClassifier\n",
    "\n",
    "from sklearn.model_selection import ShuffleSplit\n",
    "from sklearn.pipeline import Pipeline\n",
    "from sklearn.ensemble import BaggingClassifier, RandomForestClassifier\n",
    "from sklearn.preprocessing import LabelEncoder"
   ]
  },
  {
   "cell_type": "markdown",
   "id": "driving-prerequisite",
   "metadata": {},
   "source": [
    "## 1. Connection to mongodb"
   ]
  },
  {
   "cell_type": "code",
   "execution_count": 3,
   "id": "atomic-cannon",
   "metadata": {},
   "outputs": [
    {
     "data": {
      "text/plain": [
       "{'_id_': {'v': 2, 'key': [('_id', 1)], 'ns': 'StarkBotBD.Quest_Rep'},\n",
       " 'text_search': {'v': 2,\n",
       "  'key': [('_fts', 'text'), ('_ftsx', 1)],\n",
       "  'ns': 'StarkBotBD.Quest_Rep',\n",
       "  'weights': SON([('Body', 1), ('Title', 2)]),\n",
       "  'default_language': 'english',\n",
       "  'language_override': 'language',\n",
       "  'textIndexVersion': 3},\n",
       " 'Topic_1': {'v': 2, 'key': [('Topic', 1)], 'ns': 'StarkBotBD.Quest_Rep'},\n",
       " 'Score_1': {'v': 2, 'key': [('Score', 1)], 'ns': 'StarkBotBD.Quest_Rep'},\n",
       " 'PostTypeId_1': {'v': 2,\n",
       "  'key': [('PostTypeId', 1)],\n",
       "  'ns': 'StarkBotBD.Quest_Rep'},\n",
       " 'ParentId_1': {'v': 2,\n",
       "  'key': [('ParentId', 1)],\n",
       "  'ns': 'StarkBotBD.Quest_Rep'},\n",
       " 'AnswerCount_1': {'v': 2,\n",
       "  'key': [('AnswerCount', 1)],\n",
       "  'ns': 'StarkBotBD.Quest_Rep'},\n",
       " 'Id_1': {'v': 2, 'key': [('Id', 1)], 'ns': 'StarkBotBD.Quest_Rep'}}"
      ]
     },
     "execution_count": 3,
     "metadata": {},
     "output_type": "execute_result"
    }
   ],
   "source": [
    "from pymongo import MongoClient\n",
    "client = MongoClient(\"localhost\", 27017)\n",
    "db = client[\"StarkBotBD\"]\n",
    "db.Quest_Rep.index_information()"
   ]
  },
  {
   "cell_type": "code",
   "execution_count": 7,
   "id": "similar-auditor",
   "metadata": {},
   "outputs": [
    {
     "data": {
      "text/plain": [
       "LabelEncoder()"
      ]
     },
     "execution_count": 7,
     "metadata": {},
     "output_type": "execute_result"
    }
   ],
   "source": [
    "## Liste des Topic dans la BDD\n",
    "topic = 'general'\n",
    "languages = ['english', 'french']\n",
    "le = LabelEncoder()\n",
    "le.fit(languages)"
   ]
  },
  {
   "cell_type": "markdown",
   "id": "collect-belle",
   "metadata": {},
   "source": [
    "## 2. Corpus and Targets generation\n",
    "Query mongodb BDD to create a liste of questions (corpus). "
   ]
  },
  {
   "cell_type": "code",
   "execution_count": 11,
   "id": "simplified-assist",
   "metadata": {},
   "outputs": [
    {
     "name": "stderr",
     "output_type": "stream",
     "text": [
      "<ipython-input-11-9f1583c7966f>:5: DeprecationWarning: count is deprecated. Use Collection.count_documents instead.\n",
      "  if db.Quest_Rep.find({\"Topic\": topic, 'Language':language, \"PostTypeId\":\"1\"}).count()>=nq_by_topic:\n",
      "<ipython-input-11-9f1583c7966f>:11: DeprecationWarning: count is deprecated. Use Collection.count_documents instead.\n",
      "  length = db.Quest_Rep.find({\"Topic\": topic, 'Language':language, \"PostTypeId\":\"1\"}).count()\n"
     ]
    }
   ],
   "source": [
    "nq_by_topic = 5000\n",
    "corpus = []\n",
    "target = []\n",
    "for language in languages:\n",
    "    if db.Quest_Rep.find({\"Topic\": topic, 'Language':language, \"PostTypeId\":\"1\"}).count()>=nq_by_topic:\n",
    "        elmts_cursor = db.Quest_Rep.find({\"Topic\": topic, 'Language':language, \"PostTypeId\":\"1\"}) \\\n",
    "                                        .sort([('Score', -1)]).limit(nq_by_topic)\n",
    "        corpus.extend([elmt.get(\"Title\") for elmt in elmts_cursor])\n",
    "        target.extend([language]*nq_by_topic)\n",
    "    else:\n",
    "        length = db.Quest_Rep.find({\"Topic\": topic, 'Language':language, \"PostTypeId\":\"1\"}).count()\n",
    "        elmts_cursor = db.Quest_Rep.find({\"Topic\": topic, 'Language':language, \"PostTypeId\":\"1\"}) \\\n",
    "                                        .sort([('Score', -1)]).limit(length)\n",
    "        corpus.extend([elmt.get(\"Title\") for elmt in elmts_cursor])\n",
    "        target.extend([language]*length)"
   ]
  },
  {
   "cell_type": "code",
   "execution_count": 12,
   "id": "auburn-proposal",
   "metadata": {},
   "outputs": [
    {
     "data": {
      "text/plain": [
       "array(['What is AI?', 'What is AI?', 'Are you sentient?', ...,\n",
       "       \"De quel pays, God Save the Queen est l'hymne national?\",\n",
       "       'Le Plateau Celte, le fond marin sous la mer Celtique est une partie du plateau continental de quel continent?',\n",
       "       'Les dauphins utilisent un sens, proche du sonar, pour déterminer la position et la forme des objets environnant.'],\n",
       "      dtype='<U182')"
      ]
     },
     "execution_count": 12,
     "metadata": {},
     "output_type": "execute_result"
    }
   ],
   "source": [
    "corpus = np.array(corpus)\n",
    "corpus"
   ]
  },
  {
   "cell_type": "code",
   "execution_count": 13,
   "id": "retired-satisfaction",
   "metadata": {},
   "outputs": [
    {
     "data": {
      "text/plain": [
       "array(['english', 'english', 'english', ..., 'french', 'french', 'french'],\n",
       "      dtype='<U7')"
      ]
     },
     "execution_count": 13,
     "metadata": {},
     "output_type": "execute_result"
    }
   ],
   "source": [
    "target = np.array(target)\n",
    "target"
   ]
  },
  {
   "cell_type": "code",
   "execution_count": 14,
   "id": "hidden-belize",
   "metadata": {},
   "outputs": [
    {
     "name": "stdout",
     "output_type": "stream",
     "text": [
      "2619\n",
      "107\n"
     ]
    },
    {
     "name": "stderr",
     "output_type": "stream",
     "text": [
      "<ipython-input-14-d2e5a882666d>:3: DeprecationWarning: count is deprecated. Use Collection.count_documents instead.\n",
      "  somme = db.Quest_Rep.find({\"Topic\": topic, 'Language':language, \"PostTypeId\":\"1\"}).count()\n"
     ]
    }
   ],
   "source": [
    "## Taille des differents topics\n",
    "for language in languages:\n",
    "    somme = db.Quest_Rep.find({\"Topic\": topic, 'Language':language, \"PostTypeId\":\"1\"}).count()\n",
    "    print(somme)"
   ]
  },
  {
   "cell_type": "code",
   "execution_count": 15,
   "id": "terminal-links",
   "metadata": {},
   "outputs": [],
   "source": [
    "## encode targets (str) to numerical (int)\n",
    "y = le.transform(target)"
   ]
  },
  {
   "cell_type": "code",
   "execution_count": 17,
   "id": "square-salmon",
   "metadata": {},
   "outputs": [],
   "source": [
    "vect = CountVectorizer(stop_words=None)\n",
    "X = vect.fit_transform(corpus)"
   ]
  },
  {
   "cell_type": "code",
   "execution_count": 18,
   "id": "proud-findings",
   "metadata": {},
   "outputs": [
    {
     "data": {
      "text/plain": [
       "(2726, 1137)"
      ]
     },
     "execution_count": 18,
     "metadata": {},
     "output_type": "execute_result"
    }
   ],
   "source": [
    "X.shape"
   ]
  },
  {
   "cell_type": "code",
   "execution_count": 19,
   "id": "centered-proof",
   "metadata": {},
   "outputs": [],
   "source": [
    "def run_pipes(pipes, splits, corpus, targets, test_size=0.2, seed=42):  \n",
    "    res = defaultdict(list)\n",
    "    spliter = ShuffleSplit(n_splits=splits, test_size=test_size, random_state=seed)\n",
    "    for idx_train, idx_test in spliter.split(corpus, targets):\n",
    "        for pipe in pipes:\n",
    "            # name of the model\n",
    "            name = \"-\".join([x[0] for x in pipe.steps])\n",
    "            \n",
    "            # extract datasets\n",
    "            X_train = corpus[idx_train]\n",
    "            X_test = corpus[idx_test]\n",
    "            y_train = targets[idx_train]\n",
    "            y_test = targets[idx_test]\n",
    "            \n",
    "            # Learn\n",
    "            start = time()\n",
    "            pipe.fit(X_train, y_train)\n",
    "            fit_time = time() - start\n",
    "            \n",
    "            # predict and save results\n",
    "            y = pipe.predict(X_test)\n",
    "            res[name].append([\n",
    "                fit_time,\n",
    "                f1_score(y_test, y, average='micro'),\n",
    "                f1_score(y_test, y, average='macro'),\n",
    "                f1_score(y_test, y, average='weighted'),           \n",
    "            ])\n",
    "    return res\n"
   ]
  },
  {
   "cell_type": "code",
   "execution_count": 20,
   "id": "overall-genius",
   "metadata": {},
   "outputs": [],
   "source": [
    "def print_table(res):\n",
    "    # Compute mean and std\n",
    "    final = {}\n",
    "    for model in res:\n",
    "        arr = np.array(res[model])\n",
    "        final[model] = {\n",
    "            \"time (s)\" : arr[:, 0].mean(),#.round(2),\n",
    "            \"f1_av_micro\": [arr[:,1].mean().round(3), arr[:,1].std().round(3)],\n",
    "            \"f1_av_macro\": [arr[:,2].mean().round(3), arr[:,2].std().round(3)],\n",
    "            \"f1_av_weighted\": [arr[:,3].mean().round(3), arr[:,3].std().round(3)],\n",
    "        }\n",
    "\n",
    "    df = pd.DataFrame.from_dict(final, orient=\"index\").round(3)\n",
    "    return df"
   ]
  },
  {
   "cell_type": "code",
   "execution_count": 23,
   "id": "finnish-marijuana",
   "metadata": {},
   "outputs": [
    {
     "name": "stderr",
     "output_type": "stream",
     "text": [
      "/home/anthony/anaconda3/lib/python3.8/site-packages/sklearn/svm/_base.py:976: ConvergenceWarning: Liblinear failed to converge, increase the number of iterations.\n",
      "  warnings.warn(\"Liblinear failed to converge, increase \"\n",
      "/home/anthony/anaconda3/lib/python3.8/site-packages/sklearn/svm/_base.py:976: ConvergenceWarning: Liblinear failed to converge, increase the number of iterations.\n",
      "  warnings.warn(\"Liblinear failed to converge, increase \"\n",
      "/home/anthony/anaconda3/lib/python3.8/site-packages/sklearn/svm/_base.py:976: ConvergenceWarning: Liblinear failed to converge, increase the number of iterations.\n",
      "  warnings.warn(\"Liblinear failed to converge, increase \"\n",
      "/home/anthony/anaconda3/lib/python3.8/site-packages/sklearn/svm/_base.py:976: ConvergenceWarning: Liblinear failed to converge, increase the number of iterations.\n",
      "  warnings.warn(\"Liblinear failed to converge, increase \"\n",
      "/home/anthony/anaconda3/lib/python3.8/site-packages/sklearn/svm/_base.py:976: ConvergenceWarning: Liblinear failed to converge, increase the number of iterations.\n",
      "  warnings.warn(\"Liblinear failed to converge, increase \"\n",
      "/home/anthony/anaconda3/lib/python3.8/site-packages/sklearn/svm/_base.py:976: ConvergenceWarning: Liblinear failed to converge, increase the number of iterations.\n",
      "  warnings.warn(\"Liblinear failed to converge, increase \"\n",
      "/home/anthony/anaconda3/lib/python3.8/site-packages/sklearn/svm/_base.py:976: ConvergenceWarning: Liblinear failed to converge, increase the number of iterations.\n",
      "  warnings.warn(\"Liblinear failed to converge, increase \"\n"
     ]
    },
    {
     "data": {
      "text/html": [
       "<div>\n",
       "<style scoped>\n",
       "    .dataframe tbody tr th:only-of-type {\n",
       "        vertical-align: middle;\n",
       "    }\n",
       "\n",
       "    .dataframe tbody tr th {\n",
       "        vertical-align: top;\n",
       "    }\n",
       "\n",
       "    .dataframe thead th {\n",
       "        text-align: right;\n",
       "    }\n",
       "</style>\n",
       "<table border=\"1\" class=\"dataframe\">\n",
       "  <thead>\n",
       "    <tr style=\"text-align: right;\">\n",
       "      <th></th>\n",
       "      <th>time (s)</th>\n",
       "      <th>f1_av_micro</th>\n",
       "      <th>f1_av_macro</th>\n",
       "      <th>f1_av_weighted</th>\n",
       "    </tr>\n",
       "  </thead>\n",
       "  <tbody>\n",
       "    <tr>\n",
       "      <th>ngram_stop-tfidf-sgd-weight_bal</th>\n",
       "      <td>0.038</td>\n",
       "      <td>[0.997, 0.002]</td>\n",
       "      <td>[0.982, 0.013]</td>\n",
       "      <td>[0.997, 0.002]</td>\n",
       "    </tr>\n",
       "    <tr>\n",
       "      <th>ngram_stop-tfidf-lin_svm-weight_bal</th>\n",
       "      <td>0.045</td>\n",
       "      <td>[0.996, 0.002]</td>\n",
       "      <td>[0.974, 0.013]</td>\n",
       "      <td>[0.996, 0.003]</td>\n",
       "    </tr>\n",
       "    <tr>\n",
       "      <th>ngram_stop-tfidf-lgr-weight_bal</th>\n",
       "      <td>0.035</td>\n",
       "      <td>[0.996, 0.002]</td>\n",
       "      <td>[0.971, 0.014]</td>\n",
       "      <td>[0.995, 0.003]</td>\n",
       "    </tr>\n",
       "    <tr>\n",
       "      <th>ngram_stop-tfidf-dtc-weight_bal</th>\n",
       "      <td>0.071</td>\n",
       "      <td>[0.996, 0.002]</td>\n",
       "      <td>[0.972, 0.014]</td>\n",
       "      <td>[0.996, 0.003]</td>\n",
       "    </tr>\n",
       "    <tr>\n",
       "      <th>ngram_stop-tfidf-compl_nb-weight_bal</th>\n",
       "      <td>0.030</td>\n",
       "      <td>[0.894, 0.01]</td>\n",
       "      <td>[0.676, 0.025]</td>\n",
       "      <td>[0.921, 0.007]</td>\n",
       "    </tr>\n",
       "  </tbody>\n",
       "</table>\n",
       "</div>"
      ],
      "text/plain": [
       "                                      time (s)     f1_av_micro  \\\n",
       "ngram_stop-tfidf-sgd-weight_bal          0.038  [0.997, 0.002]   \n",
       "ngram_stop-tfidf-lin_svm-weight_bal      0.045  [0.996, 0.002]   \n",
       "ngram_stop-tfidf-lgr-weight_bal          0.035  [0.996, 0.002]   \n",
       "ngram_stop-tfidf-dtc-weight_bal          0.071  [0.996, 0.002]   \n",
       "ngram_stop-tfidf-compl_nb-weight_bal     0.030   [0.894, 0.01]   \n",
       "\n",
       "                                         f1_av_macro  f1_av_weighted  \n",
       "ngram_stop-tfidf-sgd-weight_bal       [0.982, 0.013]  [0.997, 0.002]  \n",
       "ngram_stop-tfidf-lin_svm-weight_bal   [0.974, 0.013]  [0.996, 0.003]  \n",
       "ngram_stop-tfidf-lgr-weight_bal       [0.971, 0.014]  [0.995, 0.003]  \n",
       "ngram_stop-tfidf-dtc-weight_bal       [0.972, 0.014]  [0.996, 0.003]  \n",
       "ngram_stop-tfidf-compl_nb-weight_bal  [0.676, 0.025]  [0.921, 0.007]  "
      ]
     },
     "execution_count": 23,
     "metadata": {},
     "output_type": "execute_result"
    }
   ],
   "source": [
    "from sklearn.metrics import f1_score\n",
    "pipe0 = Pipeline([\n",
    "    (\"ngram_stop\", CountVectorizer(stop_words=stopwords, ngram_range=(1,2), min_df=2)),\n",
    "    ('tfidf', TfidfTransformer()),\n",
    "    ('sgd-weight_bal', SGDClassifier(max_iter = 2000, class_weight = 'balanced', penalty= 'elasticnet', loss = 'modified_huber')), #penalty{‘l2’, ‘l1’, ‘elasticnet’}\n",
    "])                          # loss  ‘hinge’, ‘log’, ‘modified_huber’, ‘squared_hinge’, ‘perceptron’, or a regression loss: ‘squared_loss’, ‘huber’, ‘epsilon_insensitive’, or ‘squared_epsilon_insensitive’.\n",
    "pipe1 = Pipeline([\n",
    "    (\"ngram_stop\", CountVectorizer(stop_words=stopwords, ngram_range=(1,2), min_df=2)),\n",
    "    ('tfidf', TfidfTransformer()),\n",
    "    ('lin_svm-weight_bal', LinearSVC(class_weight = 'balanced', penalty='l1', loss = 'squared_hinge', dual=False)), # penalty{‘l1’, ‘l2’}: default : 'l2', loss{‘hinge’, ‘squared_hinge’} : default: 'square_hinge'\n",
    "])                                                                                                                  # must : , penalty='l1', loss = 'squared_hinge', dual=False\n",
    "pipe2 = Pipeline([\n",
    "    (\"ngram_stop\", CountVectorizer(stop_words=stopwords, ngram_range=(1,2), min_df=2)),\n",
    "    ('tfidf', TfidfTransformer()),\n",
    "    ('lgr-weight_bal', LogisticRegression(max_iter = 2000, penalty = 'l1', solver='liblinear', class_weight = 'balanced')), # penalty{‘l1’, ‘l2’, ‘elasticnet’, ‘none’}, dualbool, default=False\n",
    "])                                                                                      # solver{‘newton-cg’, ‘lbfgs’, ‘liblinear’, ‘sag’, ‘saga’}, default=’lbfgs’\n",
    "pipe3 = Pipeline([\n",
    "    (\"ngram_stop\", CountVectorizer(stop_words=stopwords, ngram_range=(1,2), min_df=2)),\n",
    "    ('tfidf', TfidfTransformer()),\n",
    "    ('dtc-weight_bal', DecisionTreeClassifier(class_weight = 'balanced')),\n",
    "])\n",
    "pipe4 = Pipeline([\n",
    "    (\"ngram_stop\", CountVectorizer(stop_words=stopwords, ngram_range=(1,2), min_df=2)),\n",
    "    ('tfidf', TfidfTransformer()),\n",
    "    ('compl_nb-weight_bal', ComplementNB()),\n",
    "])\n",
    "\n",
    "\n",
    "res = run_pipes([pipe0, pipe1, pipe2, pipe3, pipe4], splits = 10, corpus=corpus, targets=y)\n",
    "print_table(res)"
   ]
  },
  {
   "cell_type": "code",
   "execution_count": 24,
   "id": "signed-deadline",
   "metadata": {},
   "outputs": [],
   "source": [
    "## sauvegarde\n",
    "import pickle\n",
    "filename = \"classifier_language.pickle\"\n",
    "pickle.dump(pipe0, open(filename, 'wb'))"
   ]
  },
  {
   "cell_type": "code",
   "execution_count": 25,
   "id": "configured-ethiopia",
   "metadata": {},
   "outputs": [],
   "source": [
    "filename = \"classifier_language.pickle\"\n",
    "model = pickle.load(open(filename, 'rb'))"
   ]
  },
  {
   "cell_type": "code",
   "execution_count": 26,
   "id": "optical-destiny",
   "metadata": {},
   "outputs": [],
   "source": [
    "y_pred=model.predict(corpus)\n",
    "score = model.score(corpus, y)"
   ]
  },
  {
   "cell_type": "code",
   "execution_count": 32,
   "id": "reduced-valve",
   "metadata": {},
   "outputs": [
    {
     "name": "stdout",
     "output_type": "stream",
     "text": [
      "language : english\n"
     ]
    }
   ],
   "source": [
    "pred = model.predict([\"What's your name ?\"])\n",
    "print('language :', le.inverse_transform(pred)[0])"
   ]
  },
  {
   "cell_type": "code",
   "execution_count": 33,
   "id": "institutional-sailing",
   "metadata": {},
   "outputs": [
    {
     "name": "stdout",
     "output_type": "stream",
     "text": [
      "['english' 'french']\n"
     ]
    },
    {
     "data": {
      "image/png": "[encoded data removed]",
      "text/plain": [
       "<Figure size 648x648 with 2 Axes>"
      ]
     },
     "metadata": {
      "needs_background": "light"
     },
     "output_type": "display_data"
    }
   ],
   "source": [
    "from sklearn import metrics\n",
    "\n",
    "cm = metrics.confusion_matrix(y, y_pred)\n",
    "plt.figure(figsize=(9,9))\n",
    "sns.heatmap(cm, annot=True, fmt=\".3f\", linewidths=.5, square = True, cmap = 'Blues_r');\n",
    "plt.yticks(np.arange(len(languages))+0.5, tuple(le.inverse_transform([0, 1])), rotation=0)\n",
    "plt.ylabel('Actual label');\n",
    "plt.xticks(np.arange(len(languages))+0.5, tuple(le.inverse_transform([0, 1])), rotation=60)\n",
    "plt.xlabel('Predicted label');\n",
    "all_sample_title = 'Accuracy Score: {0} %'.format(round(score,3)*100)\n",
    "plt.title(all_sample_title, size = 15);\n",
    "print(le.inverse_transform([0, 1]))"
   ]
  },
  {
   "cell_type": "code",
   "execution_count": 34,
   "id": "virgin-barrier",
   "metadata": {},
   "outputs": [
    {
     "name": "stdout",
     "output_type": "stream",
     "text": [
      "salut, comment va tu ?\n",
      "language : french\n",
      "hi\n",
      "language : english\n",
      "hello, how are you\n",
      "language : english\n",
      "what's your name\n",
      "language : english\n",
      "je\n",
      "language : french\n",
      "I\n",
      "language : english\n",
      "here we go\n",
      "language : english\n",
      "let's go\n",
      "language : english\n",
      "je suis là\n",
      "language : french\n",
      "quel est ton nom?\n",
      "language : french\n",
      "qu'est ce qu'un cable usb\n",
      "language : french\n",
      "quit\n",
      "language : english\n"
     ]
    }
   ],
   "source": [
    "while True:\n",
    "    try:\n",
    "        pred = model.predict([input()])\n",
    "        print('language :', le.inverse_transform(pred)[0])\n",
    "\n",
    "    except(KeyboardInterrupt, EOFError, SystemExit):\n",
    "        break"
   ]
  },
  {
   "cell_type": "code",
   "execution_count": null,
   "id": "regulated-clause",
   "metadata": {},
   "outputs": [],
   "source": []
  }
 ],
 "metadata": {
  "kernelspec": {
   "display_name": "Python 3",
   "language": "python",
   "name": "python3"
  },
  "language_info": {
   "codemirror_mode": {
    "name": "ipython",
    "version": 3
   },
   "file_extension": ".py",
   "mimetype": "text/x-python",
   "name": "python",
   "nbconvert_exporter": "python",
   "pygments_lexer": "ipython3",
   "version": "3.8.3"
  }
 },
 "nbformat": 4,
 "nbformat_minor": 5
}
