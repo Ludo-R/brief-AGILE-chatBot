{
 "cells": [
  {
   "cell_type": "markdown",
   "id": "presidential-flexibility",
   "metadata": {},
   "source": [
    "## 0. Imports"
   ]
  },
  {
   "cell_type": "code",
   "execution_count": 1,
   "id": "particular-aerospace",
   "metadata": {},
   "outputs": [
    {
     "name": "stderr",
     "output_type": "stream",
     "text": [
      "[nltk_data] Downloading package stopwords to\n",
      "[nltk_data]     /home/anthony/nltk_data...\n",
      "[nltk_data]   Package stopwords is already up-to-date!\n",
      "[nltk_data] Downloading package wordnet to /home/anthony/nltk_data...\n",
      "[nltk_data]   Package wordnet is already up-to-date!\n",
      "[nltk_data] Downloading package punkt to /home/anthony/nltk_data...\n",
      "[nltk_data]   Package punkt is already up-to-date!\n",
      "[nltk_data] Error loading average_perceptron_tagger: Package\n",
      "[nltk_data]     'average_perceptron_tagger' not found in index\n"
     ]
    }
   ],
   "source": [
    "%matplotlib inline\n",
    "from time import time\n",
    "from collections import defaultdict\n",
    "import numpy as np\n",
    "import pandas as pd\n",
    "import matplotlib.pyplot as plt\n",
    "import seaborn as sns\n",
    "import plotly.express as px \n",
    "import plotly.graph_objects as go\n",
    "import pickle\n",
    "\n",
    "import nltk\n",
    "nltk.download('stopwords') ## à executer qu'une fois\n",
    "nltk.download('wordnet') ## à executer qu'une fois\n",
    "nltk.download('punkt') ## à executer qu'une fois\n",
    "nltk.download('average_perceptron_tagger') ## à executer qu'une fois\n",
    "\n",
    "from nltk.tokenize import word_tokenize\n",
    "\n",
    "import string\n",
    "\n",
    "from nltk.corpus import stopwords as sw\n",
    "from nltk.corpus import wordnet as wn\n",
    "from nltk import wordpunct_tokenize\n",
    "from nltk import WordNetLemmatizer\n",
    "from nltk import sent_tokenize\n",
    "from nltk import pos_tag\n",
    "\n",
    "\n",
    "stopwords = sw.words('english')\n",
    "\n",
    "## sklearn\n",
    "from sklearn.feature_extraction.text import CountVectorizer, TfidfVectorizer, TfidfTransformer\n",
    "### models ML\n",
    "from sklearn.svm import SVC, LinearSVC     # Support Vector Machine\n",
    "from sklearn.neighbors import KNeighborsClassifier\n",
    "from sklearn.linear_model import SGDClassifier, LogisticRegression, LogisticRegressionCV\n",
    "from sklearn.tree import DecisionTreeClassifier \n",
    "from sklearn.naive_bayes import MultinomialNB, CategoricalNB, ComplementNB, BernoulliNB\n",
    "from sklearn.neural_network import MLPClassifier\n",
    "\n",
    "from sklearn.model_selection import ShuffleSplit\n",
    "from sklearn.pipeline import Pipeline, FeatureUnion\n",
    "from sklearn.decomposition import FastICA, KernelPCA, TruncatedSVD, SparsePCA, NMF, FactorAnalysis, LatentDirichletAllocation\n",
    "from sklearn.base import BaseEstimator, TransformerMixin\n",
    "from sklearn.multiclass import OneVsRestClassifier\n",
    "from sklearn.ensemble import BaggingClassifier, RandomForestClassifier\n",
    "from sklearn.preprocessing import LabelEncoder\n",
    "from sklearn.metrics import f1_score, precision_score, recall_score"
   ]
  },
  {
   "cell_type": "markdown",
   "id": "material-while",
   "metadata": {},
   "source": [
    "## 1. Connection to mongodb"
   ]
  },
  {
   "cell_type": "code",
   "execution_count": 2,
   "id": "classified-intranet",
   "metadata": {},
   "outputs": [
    {
     "data": {
      "text/plain": [
       "{'_id_': {'v': 2, 'key': [('_id', 1)], 'ns': 'StarkBotBD.Quest_Rep'},\n",
       " 'text_search': {'v': 2,\n",
       "  'key': [('_fts', 'text'), ('_ftsx', 1)],\n",
       "  'ns': 'StarkBotBD.Quest_Rep',\n",
       "  'weights': SON([('Body', 1), ('Title', 2)]),\n",
       "  'default_language': 'english',\n",
       "  'language_override': 'language',\n",
       "  'textIndexVersion': 3},\n",
       " 'Topic_1': {'v': 2, 'key': [('Topic', 1)], 'ns': 'StarkBotBD.Quest_Rep'},\n",
       " 'Score_1': {'v': 2, 'key': [('Score', 1)], 'ns': 'StarkBotBD.Quest_Rep'},\n",
       " 'PostTypeId_1': {'v': 2,\n",
       "  'key': [('PostTypeId', 1)],\n",
       "  'ns': 'StarkBotBD.Quest_Rep'},\n",
       " 'ParentId_1': {'v': 2,\n",
       "  'key': [('ParentId', 1)],\n",
       "  'ns': 'StarkBotBD.Quest_Rep'},\n",
       " 'AnswerCount_1': {'v': 2,\n",
       "  'key': [('AnswerCount', 1)],\n",
       "  'ns': 'StarkBotBD.Quest_Rep'},\n",
       " 'Id_1': {'v': 2, 'key': [('Id', 1)], 'ns': 'StarkBotBD.Quest_Rep'}}"
      ]
     },
     "execution_count": 2,
     "metadata": {},
     "output_type": "execute_result"
    }
   ],
   "source": [
    "from pymongo import MongoClient\n",
    "client = MongoClient(\"localhost\", 27017)\n",
    "db = client[\"StarkBotBD\"]\n",
    "db.Quest_Rep.index_information()"
   ]
  },
  {
   "cell_type": "code",
   "execution_count": 8,
   "id": "documentary-minister",
   "metadata": {},
   "outputs": [
    {
     "data": {
      "text/plain": [
       "['astronomy',\n",
       " 'earthscience',\n",
       " 'electronics',\n",
       " 'engineering',\n",
       " 'general',\n",
       " 'space',\n",
       " 'stellar']"
      ]
     },
     "execution_count": 8,
     "metadata": {},
     "output_type": "execute_result"
    }
   ],
   "source": [
    "topics= db.Quest_Rep.distinct('Topic')\n",
    "topics"
   ]
  },
  {
   "cell_type": "code",
   "execution_count": 9,
   "id": "living-hanging",
   "metadata": {},
   "outputs": [
    {
     "data": {
      "text/plain": [
       "7"
      ]
     },
     "execution_count": 9,
     "metadata": {},
     "output_type": "execute_result"
    }
   ],
   "source": [
    "nb_topics = len(topics)\n",
    "nb_topics"
   ]
  },
  {
   "cell_type": "code",
   "execution_count": 11,
   "id": "departmental-privacy",
   "metadata": {},
   "outputs": [
    {
     "data": {
      "text/plain": [
       "[0, 1, 2, 3, 4, 5, 6]"
      ]
     },
     "execution_count": 11,
     "metadata": {},
     "output_type": "execute_result"
    }
   ],
   "source": [
    "list(range(nb_topics))"
   ]
  },
  {
   "cell_type": "code",
   "execution_count": 3,
   "id": "severe-finland",
   "metadata": {},
   "outputs": [
    {
     "data": {
      "text/plain": [
       "LabelEncoder()"
      ]
     },
     "execution_count": 3,
     "metadata": {},
     "output_type": "execute_result"
    }
   ],
   "source": [
    "## Liste des Topic dans la BDD\n",
    "topics = ['astronomy', 'earthscience', 'electronics', 'engineering', 'space', 'stellar', 'general']\n",
    "le = LabelEncoder()\n",
    "le.fit(topics)"
   ]
  },
  {
   "cell_type": "markdown",
   "id": "lovely-clause",
   "metadata": {},
   "source": [
    "## 2. Corpus and Targets generation\n",
    "Query mongodb BDD to create a liste of questions (corpus). \n",
    "\n",
    "Select n questions of each topics (nq_by_topic), if exist. <br>Else, select all available question in the topic."
   ]
  },
  {
   "cell_type": "code",
   "execution_count": 4,
   "id": "monetary-portal",
   "metadata": {},
   "outputs": [
    {
     "name": "stderr",
     "output_type": "stream",
     "text": [
      "<ipython-input-4-582bde8629e8>:5: DeprecationWarning: count is deprecated. Use Collection.count_documents instead.\n",
      "  if db.Quest_Rep.find({\"Topic\": topic, \"PostTypeId\":\"1\"}).count()>=nq_by_topic:\n",
      "<ipython-input-4-582bde8629e8>:11: DeprecationWarning: count is deprecated. Use Collection.count_documents instead.\n",
      "  length = db.Quest_Rep.find({\"Topic\": topic, \"PostTypeId\":\"1\"}).count()\n"
     ]
    }
   ],
   "source": [
    "nq_by_topic = 5000\n",
    "corpus = []\n",
    "target = []\n",
    "for topic in topics:\n",
    "    if db.Quest_Rep.find({\"Topic\": topic, \"PostTypeId\":\"1\"}).count()>=nq_by_topic:\n",
    "        elmts_cursor = db.Quest_Rep.find({\"Topic\": topic, \"PostTypeId\":\"1\"}) \\\n",
    "                                        .sort([('Score', -1)]).limit(nq_by_topic)\n",
    "        corpus.extend([elmt.get(\"Title\") for elmt in elmts_cursor])\n",
    "        target.extend([topic]*nq_by_topic)\n",
    "    else:\n",
    "        length = db.Quest_Rep.find({\"Topic\": topic, \"PostTypeId\":\"1\"}).count()\n",
    "        elmts_cursor = db.Quest_Rep.find({\"Topic\": topic, \"PostTypeId\":\"1\"}) \\\n",
    "                                        .sort([('Score', -1)]).limit(length)\n",
    "        corpus.extend([elmt.get(\"Title\") for elmt in elmts_cursor])\n",
    "        target.extend([topic]*length)\n",
    "        "
   ]
  },
  {
   "cell_type": "code",
   "execution_count": 5,
   "id": "operational-pathology",
   "metadata": {},
   "outputs": [],
   "source": [
    "corpus = np.array(corpus)\n",
    "target = np.array(target)"
   ]
  },
  {
   "cell_type": "code",
   "execution_count": 6,
   "id": "destroyed-formation",
   "metadata": {},
   "outputs": [
    {
     "name": "stdout",
     "output_type": "stream",
     "text": [
      "29007\n"
     ]
    }
   ],
   "source": [
    "print(5000*5+1281+2726)"
   ]
  },
  {
   "cell_type": "code",
   "execution_count": 7,
   "id": "varied-brunswick",
   "metadata": {},
   "outputs": [
    {
     "data": {
      "text/plain": [
       "array(['general', 'general', 'general', 'general', 'general', 'general',\n",
       "       'general'], dtype='<U12')"
      ]
     },
     "execution_count": 7,
     "metadata": {},
     "output_type": "execute_result"
    }
   ],
   "source": [
    "target[29000:]"
   ]
  },
  {
   "cell_type": "code",
   "execution_count": 8,
   "id": "competent-stable",
   "metadata": {},
   "outputs": [
    {
     "data": {
      "text/plain": [
       "array([\"D'apres quel astronaute americain, le telescope spatial Hubble, lance en 1990 et place sur orbite basse, est-il nomme?\",\n",
       "       'Quel est le nom de la galaxie la plus proche de la Voie Lactée?',\n",
       "       'Quel est le nom de la galaxie la plus proche de la Voie Lactee?',\n",
       "       \"God Save the Queen est l'hymne national de quel pays?\",\n",
       "       \"De quel pays, God Save the Queen est l'hymne national?\",\n",
       "       'Le Plateau Celte, le fond marin sous la mer Celtique est une partie du plateau continental de quel continent?',\n",
       "       'Les dauphins utilisent un sens, proche du sonar, pour déterminer la position et la forme des objets environnant.'],\n",
       "      dtype='<U182')"
      ]
     },
     "execution_count": 8,
     "metadata": {},
     "output_type": "execute_result"
    }
   ],
   "source": [
    "corpus[29000:]"
   ]
  },
  {
   "cell_type": "code",
   "execution_count": 9,
   "id": "perfect-string",
   "metadata": {},
   "outputs": [
    {
     "name": "stderr",
     "output_type": "stream",
     "text": [
      "<ipython-input-9-88ca0a2af9ff>:3: DeprecationWarning: count is deprecated. Use Collection.count_documents instead.\n",
      "  somme = db.Quest_Rep.find({\"Topic\": topic, \"PostTypeId\":\"1\"}).count()\n"
     ]
    },
    {
     "name": "stdout",
     "output_type": "stream",
     "text": [
      "9995\n",
      "5393\n",
      "148171\n",
      "10324\n",
      "14295\n",
      "1281\n",
      "2726\n"
     ]
    }
   ],
   "source": [
    "## Taille des differents topics\n",
    "for topic in topics:\n",
    "    somme = db.Quest_Rep.find({\"Topic\": topic, \"PostTypeId\":\"1\"}).count()\n",
    "    print(somme)"
   ]
  },
  {
   "cell_type": "code",
   "execution_count": 10,
   "id": "prospective-slope",
   "metadata": {},
   "outputs": [],
   "source": [
    "## encode targets (str) to numerical (int)\n",
    "y = le.transform(target)"
   ]
  },
  {
   "cell_type": "code",
   "execution_count": 11,
   "id": "separated-first",
   "metadata": {},
   "outputs": [],
   "source": [
    "vect = CountVectorizer(stop_words=stopwords)\n",
    "X = vect.fit_transform(corpus)"
   ]
  },
  {
   "cell_type": "code",
   "execution_count": 12,
   "id": "peripheral-birmingham",
   "metadata": {},
   "outputs": [
    {
     "data": {
      "text/plain": [
       "(29007, 18578)"
      ]
     },
     "execution_count": 12,
     "metadata": {},
     "output_type": "execute_result"
    }
   ],
   "source": [
    "X.shape"
   ]
  },
  {
   "cell_type": "markdown",
   "id": "suited-collectible",
   "metadata": {},
   "source": [
    "## 3. Test first models"
   ]
  },
  {
   "cell_type": "code",
   "execution_count": 12,
   "id": "wired-immune",
   "metadata": {},
   "outputs": [],
   "source": [
    "def run_pipes(pipes, splits, corpus, targets, test_size=0.2, seed=42):  \n",
    "    res = defaultdict(list)\n",
    "    spliter = ShuffleSplit(n_splits=splits, test_size=test_size, random_state=seed)\n",
    "    for idx_train, idx_test in spliter.split(corpus, targets):\n",
    "        for pipe in pipes:\n",
    "            # name of the model\n",
    "            name = \"-\".join([x[0] for x in pipe.steps])\n",
    "            \n",
    "            # extract datasets\n",
    "            X_train = corpus[idx_train]\n",
    "            X_test = corpus[idx_test]\n",
    "            y_train = targets[idx_train]\n",
    "            y_test = targets[idx_test]\n",
    "            \n",
    "            # Learn\n",
    "            start = time()\n",
    "            pipe.fit(X_train, y_train)\n",
    "            fit_time = time() - start\n",
    "            \n",
    "            # predict and save results\n",
    "            y = pipe.predict(X_test)\n",
    "            res[name].append([\n",
    "                fit_time,\n",
    "                f1_score(y_test, y, average='micro'),\n",
    "                f1_score(y_test, y, average='macro'),\n",
    "                f1_score(y_test, y, average='weighted'),           \n",
    "            ])\n",
    "    return res\n"
   ]
  },
  {
   "cell_type": "code",
   "execution_count": 13,
   "id": "valuable-tradition",
   "metadata": {},
   "outputs": [],
   "source": [
    "def print_table(res):\n",
    "    # Compute mean and std\n",
    "    final = {}\n",
    "    for model in res:\n",
    "        arr = np.array(res[model])\n",
    "        final[model] = {\n",
    "            \"time (s)\" : arr[:, 0].mean(),#.round(2),\n",
    "            \"f1_av_micro\": [arr[:,1].mean().round(3), arr[:,1].std().round(3)],\n",
    "            \"f1_av_macro\": [arr[:,2].mean().round(3), arr[:,2].std().round(3)],\n",
    "            \"f1_av_weighted\": [arr[:,3].mean().round(3), arr[:,3].std().round(3)],\n",
    "        }\n",
    "\n",
    "    df = pd.DataFrame.from_dict(final, orient=\"index\").round(3)\n",
    "    return df"
   ]
  },
  {
   "cell_type": "code",
   "execution_count": 14,
   "id": "acknowledged-toolbox",
   "metadata": {},
   "outputs": [
    {
     "name": "stderr",
     "output_type": "stream",
     "text": [
      "/home/anthony/anaconda3/lib/python3.8/site-packages/sklearn/svm/_base.py:976: ConvergenceWarning: Liblinear failed to converge, increase the number of iterations.\n",
      "  warnings.warn(\"Liblinear failed to converge, increase \"\n",
      "/home/anthony/anaconda3/lib/python3.8/site-packages/sklearn/svm/_base.py:976: ConvergenceWarning: Liblinear failed to converge, increase the number of iterations.\n",
      "  warnings.warn(\"Liblinear failed to converge, increase \"\n"
     ]
    },
    {
     "data": {
      "text/html": [
       "<div>\n",
       "<style scoped>\n",
       "    .dataframe tbody tr th:only-of-type {\n",
       "        vertical-align: middle;\n",
       "    }\n",
       "\n",
       "    .dataframe tbody tr th {\n",
       "        vertical-align: top;\n",
       "    }\n",
       "\n",
       "    .dataframe thead th {\n",
       "        text-align: right;\n",
       "    }\n",
       "</style>\n",
       "<table border=\"1\" class=\"dataframe\">\n",
       "  <thead>\n",
       "    <tr style=\"text-align: right;\">\n",
       "      <th></th>\n",
       "      <th>time (s)</th>\n",
       "      <th>f1_av_micro</th>\n",
       "      <th>f1_av_macro</th>\n",
       "      <th>f1_av_weighted</th>\n",
       "    </tr>\n",
       "  </thead>\n",
       "  <tbody>\n",
       "    <tr>\n",
       "      <th>ngram_stop-tfidf-sgd-weight_bal</th>\n",
       "      <td>1.095</td>\n",
       "      <td>[0.835, 0.006]</td>\n",
       "      <td>[0.849, 0.006]</td>\n",
       "      <td>[0.835, 0.006]</td>\n",
       "    </tr>\n",
       "    <tr>\n",
       "      <th>ngram_stop-tfidf-lin_svm-weight_bal</th>\n",
       "      <td>2.076</td>\n",
       "      <td>[0.828, 0.005]</td>\n",
       "      <td>[0.842, 0.005]</td>\n",
       "      <td>[0.827, 0.005]</td>\n",
       "    </tr>\n",
       "    <tr>\n",
       "      <th>ngram_stop-tfidf-lgr-weight_bal</th>\n",
       "      <td>1.127</td>\n",
       "      <td>[0.792, 0.006]</td>\n",
       "      <td>[0.809, 0.007]</td>\n",
       "      <td>[0.794, 0.006]</td>\n",
       "    </tr>\n",
       "    <tr>\n",
       "      <th>ngram_stop-tfidf-dtc-weight_bal</th>\n",
       "      <td>8.400</td>\n",
       "      <td>[0.694, 0.007]</td>\n",
       "      <td>[0.71, 0.007]</td>\n",
       "      <td>[0.691, 0.007]</td>\n",
       "    </tr>\n",
       "    <tr>\n",
       "      <th>ngram_stop-tfidf-compl_nb-weight_bal</th>\n",
       "      <td>0.657</td>\n",
       "      <td>[0.828, 0.005]</td>\n",
       "      <td>[0.841, 0.005]</td>\n",
       "      <td>[0.828, 0.005]</td>\n",
       "    </tr>\n",
       "  </tbody>\n",
       "</table>\n",
       "</div>"
      ],
      "text/plain": [
       "                                      time (s)     f1_av_micro  \\\n",
       "ngram_stop-tfidf-sgd-weight_bal          1.095  [0.835, 0.006]   \n",
       "ngram_stop-tfidf-lin_svm-weight_bal      2.076  [0.828, 0.005]   \n",
       "ngram_stop-tfidf-lgr-weight_bal          1.127  [0.792, 0.006]   \n",
       "ngram_stop-tfidf-dtc-weight_bal          8.400  [0.694, 0.007]   \n",
       "ngram_stop-tfidf-compl_nb-weight_bal     0.657  [0.828, 0.005]   \n",
       "\n",
       "                                         f1_av_macro  f1_av_weighted  \n",
       "ngram_stop-tfidf-sgd-weight_bal       [0.849, 0.006]  [0.835, 0.006]  \n",
       "ngram_stop-tfidf-lin_svm-weight_bal   [0.842, 0.005]  [0.827, 0.005]  \n",
       "ngram_stop-tfidf-lgr-weight_bal       [0.809, 0.007]  [0.794, 0.006]  \n",
       "ngram_stop-tfidf-dtc-weight_bal        [0.71, 0.007]  [0.691, 0.007]  \n",
       "ngram_stop-tfidf-compl_nb-weight_bal  [0.841, 0.005]  [0.828, 0.005]  "
      ]
     },
     "execution_count": 14,
     "metadata": {},
     "output_type": "execute_result"
    }
   ],
   "source": [
    "from sklearn.metrics import f1_score\n",
    "pipe0 = Pipeline([\n",
    "    (\"ngram_stop\", CountVectorizer(stop_words=stopwords, ngram_range=(1,2), min_df=2)),\n",
    "    ('tfidf', TfidfTransformer()),\n",
    "    ('sgd-weight_bal', SGDClassifier(max_iter = 2000, class_weight = 'balanced', penalty= 'elasticnet', loss = 'modified_huber')), #penalty{‘l2’, ‘l1’, ‘elasticnet’}\n",
    "])                          # loss  ‘hinge’, ‘log’, ‘modified_huber’, ‘squared_hinge’, ‘perceptron’, or a regression loss: ‘squared_loss’, ‘huber’, ‘epsilon_insensitive’, or ‘squared_epsilon_insensitive’.\n",
    "pipe1 = Pipeline([\n",
    "    (\"ngram_stop\", CountVectorizer(stop_words=stopwords, ngram_range=(1,2), min_df=2)),\n",
    "    ('tfidf', TfidfTransformer()),\n",
    "    ('lin_svm-weight_bal', LinearSVC(class_weight = 'balanced', penalty='l1', loss = 'squared_hinge', dual=False)), # penalty{‘l1’, ‘l2’}: default : 'l2', loss{‘hinge’, ‘squared_hinge’} : default: 'square_hinge'\n",
    "])                                                                                                                  # must : , penalty='l1', loss = 'squared_hinge', dual=False\n",
    "pipe2 = Pipeline([\n",
    "    (\"ngram_stop\", CountVectorizer(stop_words=stopwords, ngram_range=(1,2), min_df=2)),\n",
    "    ('tfidf', TfidfTransformer()),\n",
    "    ('lgr-weight_bal', LogisticRegression(max_iter = 2000, penalty = 'l1', solver='liblinear', class_weight = 'balanced')), # penalty{‘l1’, ‘l2’, ‘elasticnet’, ‘none’}, dualbool, default=False\n",
    "])                                                                                      # solver{‘newton-cg’, ‘lbfgs’, ‘liblinear’, ‘sag’, ‘saga’}, default=’lbfgs’\n",
    "pipe3 = Pipeline([\n",
    "    (\"ngram_stop\", CountVectorizer(stop_words=stopwords, ngram_range=(1,2), min_df=2)),\n",
    "    ('tfidf', TfidfTransformer()),\n",
    "    ('dtc-weight_bal', DecisionTreeClassifier(class_weight = 'balanced')),\n",
    "])\n",
    "pipe4 = Pipeline([\n",
    "    (\"ngram_stop\", CountVectorizer(stop_words=stopwords, ngram_range=(1,2), min_df=2)),\n",
    "    ('tfidf', TfidfTransformer()),\n",
    "    ('compl_nb-weight_bal', ComplementNB()),\n",
    "])\n",
    "\n",
    "\n",
    "res = run_pipes([pipe0, pipe1, pipe2, pipe3, pipe4], splits = 10, corpus=corpus, targets=y)\n",
    "print_table(res)\n"
   ]
  },
  {
   "cell_type": "code",
   "execution_count": null,
   "id": "intense-experience",
   "metadata": {},
   "outputs": [],
   "source": [
    "## sauvegarde\n",
    "import pickle\n",
    "filename = \"classifier_topic.pickle\"\n",
    "pickle.dump(pipe0, open(filename, 'wb'))"
   ]
  },
  {
   "cell_type": "code",
   "execution_count": 25,
   "id": "banner-mouth",
   "metadata": {},
   "outputs": [],
   "source": [
    "filename = \"classifier_topic.pickle\"\n",
    "model = pickle.load(open(filename, 'rb'))"
   ]
  },
  {
   "cell_type": "code",
   "execution_count": 16,
   "id": "molecular-fountain",
   "metadata": {},
   "outputs": [],
   "source": [
    "y_pred=model.predict(corpus)\n",
    "score = model.score(corpus, y)"
   ]
  },
  {
   "cell_type": "code",
   "execution_count": 23,
   "id": "vanilla-savage",
   "metadata": {},
   "outputs": [
    {
     "name": "stdout",
     "output_type": "stream",
     "text": [
      "['earthscience']\n"
     ]
    }
   ],
   "source": [
    "pred = model.predict([\"What is your name ?\"])\n",
    "print(le.inverse_transform(pred))"
   ]
  },
  {
   "cell_type": "code",
   "execution_count": 36,
   "id": "universal-extension",
   "metadata": {},
   "outputs": [
    {
     "data": {
      "text/plain": [
       "['astronomy',\n",
       " 'earthscience',\n",
       " 'electronics',\n",
       " 'engineering',\n",
       " 'general',\n",
       " 'space',\n",
       " 'stellar']"
      ]
     },
     "execution_count": 36,
     "metadata": {},
     "output_type": "execute_result"
    }
   ],
   "source": [
    "liste_topic = list(le.inverse_transform([0, 1, 2, 3, 4, 5, 6]))\n",
    "liste_topic"
   ]
  },
  {
   "cell_type": "code",
   "execution_count": 69,
   "id": "retained-terrorist",
   "metadata": {},
   "outputs": [
    {
     "data": {
      "text/plain": [
       "[0.0, 0.0, 1.0, 0.0, 0.0, 0.0, 0.0]"
      ]
     },
     "execution_count": 69,
     "metadata": {},
     "output_type": "execute_result"
    }
   ],
   "source": [
    "pred_proba = model.predict_proba([\"usb C\"])\n",
    "\n",
    "liste_proba = list(pred_proba[0])\n",
    "liste_proba"
   ]
  },
  {
   "cell_type": "code",
   "execution_count": 70,
   "id": "technological-variety",
   "metadata": {},
   "outputs": [
    {
     "name": "stdout",
     "output_type": "stream",
     "text": [
      "topic 1 : electronics\n",
      "2\n",
      "topic 2 : astronomy\n",
      "0\n",
      "topic 3 : earthscience\n",
      "0\n",
      "topic 4 : engineering\n",
      "0\n",
      "topic 5 : general\n",
      "0\n",
      "topic 6 : space\n",
      "0\n",
      "topic 7 : stellar\n",
      "0\n"
     ]
    }
   ],
   "source": [
    "liste_topic = list(le.inverse_transform([0, 1, 2, 3, 4, 5, 6]))\n",
    "pred_proba = model.predict_proba([\"usb C\"])\n",
    "liste_proba = list(pred_proba[0])\n",
    "rg = len(liste_proba)\n",
    "for i in range(7):\n",
    "    print(f'topic {i+1} :',liste_topic[np.argmax(liste_proba)])\n",
    "    idx = np.argmax(liste_proba)\n",
    "    print(idx)\n",
    "    liste_proba.pop(idx)\n",
    "    liste_topic.pop(idx)\n",
    "    "
   ]
  },
  {
   "cell_type": "code",
   "execution_count": 33,
   "id": "adaptive-cycle",
   "metadata": {},
   "outputs": [
    {
     "data": {
      "text/plain": [
       "0.2999326189020622"
      ]
     },
     "execution_count": 33,
     "metadata": {},
     "output_type": "execute_result"
    }
   ],
   "source": [
    "dict_proba = {liste_topic[i]: liste_proba[i] for i in range(len(liste_proba))}"
   ]
  },
  {
   "cell_type": "code",
   "execution_count": 18,
   "id": "horizontal-belgium",
   "metadata": {},
   "outputs": [
    {
     "name": "stdout",
     "output_type": "stream",
     "text": [
      "['astronomy' 'earthscience' 'electronics' 'engineering' 'general' 'space'\n",
      " 'stellar']\n"
     ]
    },
    {
     "data": {
      "image/png": "[encoded data removed]",
      "text/plain": [
       "<Figure size 648x648 with 2 Axes>"
      ]
     },
     "metadata": {
      "needs_background": "light"
     },
     "output_type": "display_data"
    }
   ],
   "source": [
    "from sklearn import metrics\n",
    "cm = metrics.confusion_matrix(y, y_pred)\n",
    "plt.figure(figsize=(9,9))\n",
    "sns.heatmap(cm, annot=True, fmt=\".3f\", linewidths=.5, square = True, cmap = 'Blues_r');\n",
    "plt.yticks(np.arange(len(topics))+0.5, tuple(le.inverse_transform([0, 1, 2, 3, 4, 5, 6])), rotation=0)\n",
    "plt.ylabel('Actual label');\n",
    "plt.xticks(np.arange(len(topics))+0.5, tuple(le.inverse_transform([0, 1, 2, 3, 4, 5, 6])), rotation=60)\n",
    "plt.xlabel('Predicted label');\n",
    "all_sample_title = 'Accuracy Score: {0} %'.format(round(score,3)*100)\n",
    "plt.title(all_sample_title, size = 15);\n",
    "print(le.inverse_transform([0, 1, 2, 3, 4, 5, 6]))"
   ]
  },
  {
   "cell_type": "markdown",
   "id": "bottom-detection",
   "metadata": {},
   "source": [
    "## Recherche d'optimum avec Grid search"
   ]
  },
  {
   "cell_type": "code",
   "execution_count": 19,
   "id": "actual-andrew",
   "metadata": {},
   "outputs": [],
   "source": [
    "from pipelinehelper import PipelineHelper\n",
    "#\n",
    "#pipe5 = Pipeline([\n",
    "#    ('rbg2grey', RGB2GrayTransformer()),\n",
    "#    ('hog', HogTransformer(pixels_per_cell=(14, 14), cells_per_block=(2, 2), \n",
    "#                           orientations=9, block_norm='L2-Hys')\n",
    "#    ),\n",
    "#    ('scaler', PipelineHelper([\n",
    "#        ('std', StandardScaler()),\n",
    "#        ('max', MaxAbsScaler()),\n",
    "#    ])),\n",
    "#    ('classifier', PipelineHelper([\n",
    "#        ('sgd', SGDClassifier(random_state=42, max_iter=1000, tol=1e-3)),\n",
    "#        ('svm', SVC()),\n",
    "#        ('gnb', GaussianNB()),\n",
    "#        ('cnb', ComplementNB()),\n",
    "#    ])),\n",
    "#])\n",
    "\n",
    "pipe5 = Pipeline([\n",
    "    (\"vect\", CountVectorizer()),\n",
    "    ('tfidf', TfidfTransformer()),\n",
    "    ('sgd', SGDClassifier()),\n",
    "     ])"
   ]
  },
  {
   "cell_type": "code",
   "execution_count": 20,
   "id": "invalid-printer",
   "metadata": {},
   "outputs": [
    {
     "data": {
      "text/plain": [
       "dict_keys(['alpha', 'average', 'class_weight', 'early_stopping', 'epsilon', 'eta0', 'fit_intercept', 'l1_ratio', 'learning_rate', 'loss', 'max_iter', 'n_iter_no_change', 'n_jobs', 'penalty', 'power_t', 'random_state', 'shuffle', 'tol', 'validation_fraction', 'verbose', 'warm_start'])"
      ]
     },
     "execution_count": 20,
     "metadata": {},
     "output_type": "execute_result"
    }
   ],
   "source": [
    "#params = {\n",
    "#    'hog__orientations': [8, 9],\n",
    "#    'hog__cells_per_block': [(2, 2), (3, 3), (4, 4)],\n",
    "#    'hog__pixels_per_cell': [(8, 8), (10, 10), (12, 12)],\n",
    "#    'scaler__selected_model': pipe.named_steps['scaler'].generate({\n",
    "#        'std__with_mean': [True, False],\n",
    "#        'std__with_std': [True, False],\n",
    "#        'max__copy': [True],\n",
    "#    }),\n",
    "#    'classifier__selected_model': pipe.named_steps['classifier'].generate({\n",
    "#        'sgd__loss': ['hinge', 'log', 'modified_huber', 'perceptron', 'squared_loss', 'huber'],\n",
    "#        'svm__C': [0.1, 1.0],\n",
    "#        'svm__kernel': ['linear', 'poly', 'rbf', 'sigmoid', 'precomputed']\n",
    "#    })\n",
    "#}\n",
    "\n",
    "params ={\n",
    "    'vect__stop_words': [None, 'english'], ## stopvords\n",
    "    'vect__ngram_range': [(1,2), (1,3)], ## ngrams\n",
    "    'vect__min_df': [2],\n",
    "    #'tfidf_use_idf': [True, False],\n",
    "    'sgd__alpha': [1e-5, 1e-4, 1e-3, 1e-2, 1e-1, 1e0], ## learning rate\n",
    "    'sgd__max_iter':[1000], ## nb of epochs\n",
    "    'sgd__average': ['micro', 'macro', 'weighted'],\n",
    "    'sgd__class_weight': ['micro', 'macro', 'balanced'], ## macro\n",
    "    'sgd__loss': ['hinge', 'log', 'modified_huber', 'squared_hinge', 'perceptron', \n",
    "                  'squared_loss', 'huber', 'epsilon_insensitive', 'squared_epsilon_insensitive'], ## model choice SVM, logistic reg...\n",
    "    'sgd__penalty':['l2', 'l1', 'elasticnet']\n",
    "}\n",
    "\n",
    "## affichage des paramètre \n",
    "\n",
    "SGDClassifier().get_params().keys()"
   ]
  },
  {
   "cell_type": "code",
   "execution_count": 27,
   "id": "irish-questionnaire",
   "metadata": {
    "scrolled": true
   },
   "outputs": [
    {
     "name": "stdout",
     "output_type": "stream",
     "text": [
      "Fitting 3 folds for each of 54 candidates, totalling 162 fits\n"
     ]
    },
    {
     "name": "stderr",
     "output_type": "stream",
     "text": [
      "[Parallel(n_jobs=-1)]: Using backend LokyBackend with 4 concurrent workers.\n",
      "[Parallel(n_jobs=-1)]: Done  42 tasks      | elapsed:   13.9s\n",
      "[Parallel(n_jobs=-1)]: Done 162 out of 162 | elapsed:   53.5s finished\n"
     ]
    },
    {
     "ename": "TypeError",
     "evalue": "'>' not supported between instances of 'str' and 'int'",
     "output_type": "error",
     "traceback": [
      "\u001b[0;31m---------------------------------------------------------------------------\u001b[0m",
      "\u001b[0;31mTypeError\u001b[0m                                 Traceback (most recent call last)",
      "\u001b[0;32m<ipython-input-27-d43af300f418>\u001b[0m in \u001b[0;36m<module>\u001b[0;34m\u001b[0m\n\u001b[1;32m     24\u001b[0m                   return_train_score=True)\n\u001b[1;32m     25\u001b[0m \u001b[0;34m\u001b[0m\u001b[0m\n\u001b[0;32m---> 26\u001b[0;31m \u001b[0mgs_res\u001b[0m \u001b[0;34m=\u001b[0m \u001b[0mgs\u001b[0m\u001b[0;34m.\u001b[0m\u001b[0mfit\u001b[0m\u001b[0;34m(\u001b[0m\u001b[0mcorpus\u001b[0m\u001b[0;34m,\u001b[0m \u001b[0my\u001b[0m\u001b[0;34m)\u001b[0m\u001b[0;34m\u001b[0m\u001b[0;34m\u001b[0m\u001b[0m\n\u001b[0m",
      "\u001b[0;32m~/anaconda3/lib/python3.8/site-packages/sklearn/utils/validation.py\u001b[0m in \u001b[0;36minner_f\u001b[0;34m(*args, **kwargs)\u001b[0m\n\u001b[1;32m     70\u001b[0m                           FutureWarning)\n\u001b[1;32m     71\u001b[0m         \u001b[0mkwargs\u001b[0m\u001b[0;34m.\u001b[0m\u001b[0mupdate\u001b[0m\u001b[0;34m(\u001b[0m\u001b[0;34m{\u001b[0m\u001b[0mk\u001b[0m\u001b[0;34m:\u001b[0m \u001b[0marg\u001b[0m \u001b[0;32mfor\u001b[0m \u001b[0mk\u001b[0m\u001b[0;34m,\u001b[0m \u001b[0marg\u001b[0m \u001b[0;32min\u001b[0m \u001b[0mzip\u001b[0m\u001b[0;34m(\u001b[0m\u001b[0msig\u001b[0m\u001b[0;34m.\u001b[0m\u001b[0mparameters\u001b[0m\u001b[0;34m,\u001b[0m \u001b[0margs\u001b[0m\u001b[0;34m)\u001b[0m\u001b[0;34m}\u001b[0m\u001b[0;34m)\u001b[0m\u001b[0;34m\u001b[0m\u001b[0;34m\u001b[0m\u001b[0m\n\u001b[0;32m---> 72\u001b[0;31m         \u001b[0;32mreturn\u001b[0m \u001b[0mf\u001b[0m\u001b[0;34m(\u001b[0m\u001b[0;34m**\u001b[0m\u001b[0mkwargs\u001b[0m\u001b[0;34m)\u001b[0m\u001b[0;34m\u001b[0m\u001b[0;34m\u001b[0m\u001b[0m\n\u001b[0m\u001b[1;32m     73\u001b[0m     \u001b[0;32mreturn\u001b[0m \u001b[0minner_f\u001b[0m\u001b[0;34m\u001b[0m\u001b[0;34m\u001b[0m\u001b[0m\n\u001b[1;32m     74\u001b[0m \u001b[0;34m\u001b[0m\u001b[0m\n",
      "\u001b[0;32m~/anaconda3/lib/python3.8/site-packages/sklearn/model_selection/_search.py\u001b[0m in \u001b[0;36mfit\u001b[0;34m(self, X, y, groups, **fit_params)\u001b[0m\n\u001b[1;32m    763\u001b[0m             \u001b[0mrefit_start_time\u001b[0m \u001b[0;34m=\u001b[0m \u001b[0mtime\u001b[0m\u001b[0;34m.\u001b[0m\u001b[0mtime\u001b[0m\u001b[0;34m(\u001b[0m\u001b[0;34m)\u001b[0m\u001b[0;34m\u001b[0m\u001b[0;34m\u001b[0m\u001b[0m\n\u001b[1;32m    764\u001b[0m             \u001b[0;32mif\u001b[0m \u001b[0my\u001b[0m \u001b[0;32mis\u001b[0m \u001b[0;32mnot\u001b[0m \u001b[0;32mNone\u001b[0m\u001b[0;34m:\u001b[0m\u001b[0;34m\u001b[0m\u001b[0;34m\u001b[0m\u001b[0m\n\u001b[0;32m--> 765\u001b[0;31m                 \u001b[0mself\u001b[0m\u001b[0;34m.\u001b[0m\u001b[0mbest_estimator_\u001b[0m\u001b[0;34m.\u001b[0m\u001b[0mfit\u001b[0m\u001b[0;34m(\u001b[0m\u001b[0mX\u001b[0m\u001b[0;34m,\u001b[0m \u001b[0my\u001b[0m\u001b[0;34m,\u001b[0m \u001b[0;34m**\u001b[0m\u001b[0mfit_params\u001b[0m\u001b[0;34m)\u001b[0m\u001b[0;34m\u001b[0m\u001b[0;34m\u001b[0m\u001b[0m\n\u001b[0m\u001b[1;32m    766\u001b[0m             \u001b[0;32melse\u001b[0m\u001b[0;34m:\u001b[0m\u001b[0;34m\u001b[0m\u001b[0;34m\u001b[0m\u001b[0m\n\u001b[1;32m    767\u001b[0m                 \u001b[0mself\u001b[0m\u001b[0;34m.\u001b[0m\u001b[0mbest_estimator_\u001b[0m\u001b[0;34m.\u001b[0m\u001b[0mfit\u001b[0m\u001b[0;34m(\u001b[0m\u001b[0mX\u001b[0m\u001b[0;34m,\u001b[0m \u001b[0;34m**\u001b[0m\u001b[0mfit_params\u001b[0m\u001b[0;34m)\u001b[0m\u001b[0;34m\u001b[0m\u001b[0;34m\u001b[0m\u001b[0m\n",
      "\u001b[0;32m~/anaconda3/lib/python3.8/site-packages/sklearn/pipeline.py\u001b[0m in \u001b[0;36mfit\u001b[0;34m(self, X, y, **fit_params)\u001b[0m\n\u001b[1;32m    333\u001b[0m             \u001b[0;32mif\u001b[0m \u001b[0mself\u001b[0m\u001b[0;34m.\u001b[0m\u001b[0m_final_estimator\u001b[0m \u001b[0;34m!=\u001b[0m \u001b[0;34m'passthrough'\u001b[0m\u001b[0;34m:\u001b[0m\u001b[0;34m\u001b[0m\u001b[0;34m\u001b[0m\u001b[0m\n\u001b[1;32m    334\u001b[0m                 \u001b[0mfit_params_last_step\u001b[0m \u001b[0;34m=\u001b[0m \u001b[0mfit_params_steps\u001b[0m\u001b[0;34m[\u001b[0m\u001b[0mself\u001b[0m\u001b[0;34m.\u001b[0m\u001b[0msteps\u001b[0m\u001b[0;34m[\u001b[0m\u001b[0;34m-\u001b[0m\u001b[0;36m1\u001b[0m\u001b[0;34m]\u001b[0m\u001b[0;34m[\u001b[0m\u001b[0;36m0\u001b[0m\u001b[0;34m]\u001b[0m\u001b[0;34m]\u001b[0m\u001b[0;34m\u001b[0m\u001b[0;34m\u001b[0m\u001b[0m\n\u001b[0;32m--> 335\u001b[0;31m                 \u001b[0mself\u001b[0m\u001b[0;34m.\u001b[0m\u001b[0m_final_estimator\u001b[0m\u001b[0;34m.\u001b[0m\u001b[0mfit\u001b[0m\u001b[0;34m(\u001b[0m\u001b[0mXt\u001b[0m\u001b[0;34m,\u001b[0m \u001b[0my\u001b[0m\u001b[0;34m,\u001b[0m \u001b[0;34m**\u001b[0m\u001b[0mfit_params_last_step\u001b[0m\u001b[0;34m)\u001b[0m\u001b[0;34m\u001b[0m\u001b[0;34m\u001b[0m\u001b[0m\n\u001b[0m\u001b[1;32m    336\u001b[0m \u001b[0;34m\u001b[0m\u001b[0m\n\u001b[1;32m    337\u001b[0m         \u001b[0;32mreturn\u001b[0m \u001b[0mself\u001b[0m\u001b[0;34m\u001b[0m\u001b[0;34m\u001b[0m\u001b[0m\n",
      "\u001b[0;32m~/anaconda3/lib/python3.8/site-packages/sklearn/linear_model/_stochastic_gradient.py\u001b[0m in \u001b[0;36mfit\u001b[0;34m(self, X, y, coef_init, intercept_init, sample_weight)\u001b[0m\n\u001b[1;32m    723\u001b[0m             \u001b[0mReturns\u001b[0m \u001b[0man\u001b[0m \u001b[0minstance\u001b[0m \u001b[0mof\u001b[0m \u001b[0mself\u001b[0m\u001b[0;34m.\u001b[0m\u001b[0;34m\u001b[0m\u001b[0;34m\u001b[0m\u001b[0m\n\u001b[1;32m    724\u001b[0m         \"\"\"\n\u001b[0;32m--> 725\u001b[0;31m         return self._fit(X, y, alpha=self.alpha, C=1.0,\n\u001b[0m\u001b[1;32m    726\u001b[0m                          \u001b[0mloss\u001b[0m\u001b[0;34m=\u001b[0m\u001b[0mself\u001b[0m\u001b[0;34m.\u001b[0m\u001b[0mloss\u001b[0m\u001b[0;34m,\u001b[0m \u001b[0mlearning_rate\u001b[0m\u001b[0;34m=\u001b[0m\u001b[0mself\u001b[0m\u001b[0;34m.\u001b[0m\u001b[0mlearning_rate\u001b[0m\u001b[0;34m,\u001b[0m\u001b[0;34m\u001b[0m\u001b[0;34m\u001b[0m\u001b[0m\n\u001b[1;32m    727\u001b[0m                          \u001b[0mcoef_init\u001b[0m\u001b[0;34m=\u001b[0m\u001b[0mcoef_init\u001b[0m\u001b[0;34m,\u001b[0m \u001b[0mintercept_init\u001b[0m\u001b[0;34m=\u001b[0m\u001b[0mintercept_init\u001b[0m\u001b[0;34m,\u001b[0m\u001b[0;34m\u001b[0m\u001b[0;34m\u001b[0m\u001b[0m\n",
      "\u001b[0;32m~/anaconda3/lib/python3.8/site-packages/sklearn/linear_model/_stochastic_gradient.py\u001b[0m in \u001b[0;36m_fit\u001b[0;34m(self, X, y, alpha, C, loss, learning_rate, coef_init, intercept_init, sample_weight)\u001b[0m\n\u001b[1;32m    554\u001b[0m             \u001b[0mself\u001b[0m\u001b[0;34m.\u001b[0m\u001b[0mintercept_\u001b[0m \u001b[0;34m=\u001b[0m \u001b[0;32mNone\u001b[0m\u001b[0;34m\u001b[0m\u001b[0;34m\u001b[0m\u001b[0m\n\u001b[1;32m    555\u001b[0m \u001b[0;34m\u001b[0m\u001b[0m\n\u001b[0;32m--> 556\u001b[0;31m         \u001b[0;32mif\u001b[0m \u001b[0mself\u001b[0m\u001b[0;34m.\u001b[0m\u001b[0maverage\u001b[0m \u001b[0;34m>\u001b[0m \u001b[0;36m0\u001b[0m\u001b[0;34m:\u001b[0m\u001b[0;34m\u001b[0m\u001b[0;34m\u001b[0m\u001b[0m\n\u001b[0m\u001b[1;32m    557\u001b[0m             \u001b[0mself\u001b[0m\u001b[0;34m.\u001b[0m\u001b[0m_standard_coef\u001b[0m \u001b[0;34m=\u001b[0m \u001b[0mself\u001b[0m\u001b[0;34m.\u001b[0m\u001b[0mcoef_\u001b[0m\u001b[0;34m\u001b[0m\u001b[0;34m\u001b[0m\u001b[0m\n\u001b[1;32m    558\u001b[0m             \u001b[0mself\u001b[0m\u001b[0;34m.\u001b[0m\u001b[0m_standard_intercept\u001b[0m \u001b[0;34m=\u001b[0m \u001b[0mself\u001b[0m\u001b[0;34m.\u001b[0m\u001b[0mintercept_\u001b[0m\u001b[0;34m\u001b[0m\u001b[0;34m\u001b[0m\u001b[0m\n",
      "\u001b[0;31mTypeError\u001b[0m: '>' not supported between instances of 'str' and 'int'"
     ]
    }
   ],
   "source": [
    "params ={\n",
    "    'vect__stop_words': ['english'], ## stopvords\n",
    "    'vect__ngram_range': [(1,2)], ## ngrams\n",
    "    'vect__min_df': [2],\n",
    "    #'tfidf_use_idf': [True, False],\n",
    "    'sgd__alpha': [ 1e-4, 1e-3], ## learning rate\n",
    "    'sgd__max_iter':[1000], ## nb of epochs\n",
    "    'sgd__average': ['micro', 'macro', 'weighted'],\n",
    "    'sgd__class_weight': ['micro', 'macro', 'balanced'], ## macro\n",
    "    'sgd__loss': ['hinge', 'modified_huber','squared_epsilon_insensitive'], ## model choice SVM, logistic reg...\n",
    "    'sgd__penalty':['elasticnet']\n",
    "}\n",
    "\n",
    "\n",
    "from sklearn.metrics import make_scorer\n",
    "from sklearn.model_selection import GridSearchCV\n",
    "#f1_scorer = make_scorer(f1_score , average='macro')# Ne marche pas, utiliser onevsrestClassif ou onevsone\n",
    "gs = GridSearchCV(pipe5, \n",
    "                  params, \n",
    "                  cv=3,\n",
    "                  n_jobs=-1,\n",
    "                  scoring='accuracy',\n",
    "                  verbose=1,\n",
    "                  return_train_score=True)\n",
    " \n",
    "gs_res = gs.fit(corpus, y)"
   ]
  },
  {
   "cell_type": "code",
   "execution_count": null,
   "id": "geological-refund",
   "metadata": {},
   "outputs": [],
   "source": [
    "print('meilleur score obtenu :', gs_res.best_score_)\n",
    "print('meilleur estimateur :', gs_res.best_estimator_)\n",
    "print('meilleur paramètres :', gs_res.best_params_)"
   ]
  },
  {
   "cell_type": "code",
   "execution_count": null,
   "id": "funky-proposition",
   "metadata": {},
   "outputs": [],
   "source": []
  }
 ],
 "metadata": {
  "kernelspec": {
   "display_name": "Python 3",
   "language": "python",
   "name": "python3"
  },
  "language_info": {
   "codemirror_mode": {
    "name": "ipython",
    "version": 3
   },
   "file_extension": ".py",
   "mimetype": "text/x-python",
   "name": "python",
   "nbconvert_exporter": "python",
   "pygments_lexer": "ipython3",
   "version": "3.8.3"
  }
 },
 "nbformat": 4,
 "nbformat_minor": 5
}
